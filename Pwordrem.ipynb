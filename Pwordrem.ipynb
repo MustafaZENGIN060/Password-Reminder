{
  "nbformat": 4,
  "nbformat_minor": 0,
  "metadata": {
    "colab": {
      "name": "Pwordrem.ipynb",
      "provenance": [],
      "collapsed_sections": []
    },
    "kernelspec": {
      "name": "python3",
      "display_name": "Python 3"
    },
    "language_info": {
      "name": "python"
    }
  },
  "cells": [
    {
      "cell_type": "code",
      "metadata": {
        "colab": {
          "base_uri": "https://localhost:8080/"
        },
        "id": "31QsKcRmIqbn",
        "outputId": "6b8654a6-b85c-4b84-debf-45866341a837"
      },
      "source": [
        "İsim = \"Alexander\"\n",
        "sonuc = input(str(\"İsminizi baş harfi büyük olacak şekilde giriniz \"))\n",
        "if sonuc == İsim :\n",
        "  text= \"Hello, Alexander! The password is : W@12\"\n",
        "else :\n",
        "  text = \"Hello, {} ! See you later.\".format(sonuc)\n",
        "print(text)"
      ],
      "execution_count": 15,
      "outputs": [
        {
          "output_type": "stream",
          "name": "stdout",
          "text": [
            "İsminizi baş harfi büyük olacak şekilde giriniz Muhittin\n",
            "Hello, Muhittin ! See you later.\n"
          ]
        }
      ]
    }
  ]
}